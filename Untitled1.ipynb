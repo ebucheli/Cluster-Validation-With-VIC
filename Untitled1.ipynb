{
 "cells": [
  {
   "cell_type": "code",
   "execution_count": 1,
   "metadata": {},
   "outputs": [
    {
     "name": "stderr",
     "output_type": "stream",
     "text": [
      "/Users/edoardobucheli/anaconda3/lib/python3.6/site-packages/h5py/__init__.py:36: FutureWarning: Conversion of the second argument of issubdtype from `float` to `np.floating` is deprecated. In future, it will be treated as `np.float64 == np.dtype(float).type`.\n",
      "  from ._conv import register_converters as _register_converters\n"
     ]
    }
   ],
   "source": [
    "import tensorflow as tf\n",
    "import numpy as np\n",
    "import pandas as pd"
   ]
  },
  {
   "cell_type": "code",
   "execution_count": 2,
   "metadata": {},
   "outputs": [],
   "source": [
    "### Load Data\n",
    "\n",
    "df = pd.read_csv('./QS_Partitions_CSV/QS_Split101.csv')\n",
    "df = df.drop([df.columns[0],df.columns[1]],axis = 1)\n",
    "\n",
    "values = df.values\n",
    "y = values[:,-1]\n",
    "x = values[:,:-1]"
   ]
  },
  {
   "cell_type": "code",
   "execution_count": 5,
   "metadata": {},
   "outputs": [],
   "source": [
    "class MLP:\n",
    "    def __init__(self,hidden_units = 128,hidden_layers = 2,num_classes = 2,input_size = 757):\n",
    "        self.hidden_units = hidden_units\n",
    "        self.hidden_layers = hidden_layers\n",
    "        self.num_classes = num_classes\n",
    "        self.input_size = input_size\n",
    "        \n",
    "        self.X = tf.placeholder(tf.float32,shape = [None,self.input_size])\n",
    "        self.y = tf.placeholder(tf.float32,shape = [None,])\n",
    "\n",
    "        self.y = tf.cast(self.y, tf.int32)\n",
    "        y_oh = tf.one_hot(self.y, self.num_classes)\n",
    "\n",
    "        A = tf.keras.layers.Dense(self.hidden_units,activation = 'relu')(self.X)\n",
    "\n",
    "        if self.hidden_layers > 1:\n",
    "            for i in range(self.hidden_layers-1):\n",
    "                A = tf.keras.layers.Dense(self.hidden_units,activation='relu')(A)\n",
    "\n",
    "        logits = tf.keras.layers.Dense(self.num_classes)(A)\n",
    "        y_scores = tf.keras.layers.Activation('softmax')(logits)\n",
    "        self.y_hat = tf.argmax(y_scores,axis = 1)\n",
    "\n",
    "        loss = tf.reduce_mean(tf.nn.softmax_cross_entropy_with_logits_v2(labels = y_oh, logits = logits))\n",
    "        acc = tf.reduce_mean(tf.cast(tf.equal(tf.argmax(y_scores,axis = 1),tf.argmax(y_oh,axis = 1)),dtype = tf.float32))\n",
    "        optimizer = tf.train.AdamOptimizer()\n",
    "        self.train_st = optimizer.minimize(loss)\n",
    "        \n",
    "        self.sess = tf.Session()\n",
    "        \n",
    "    def fit(self,X_train,y_train):\\\n",
    "        \n",
    "        self.sess.run(tf.global_variables_initializer())\n",
    "        \n",
    "        for i in range(500):\n",
    "            self.sess.run(self.train_st,feed_dict = {self.X:X_train,self.y:y_train})\n",
    "\n",
    "    def predict(self,X_test):\n",
    "        y_hat_this = self.sess.run(self.y_hat,feed_dict = {self.X: X_test})\n",
    "        return y_hat_this"
   ]
  },
  {
   "cell_type": "code",
   "execution_count": 6,
   "metadata": {},
   "outputs": [],
   "source": [
    "clf = MLP()\n"
   ]
  },
  {
   "cell_type": "code",
   "execution_count": 7,
   "metadata": {},
   "outputs": [],
   "source": [
    "clf.fit(x,y)"
   ]
  },
  {
   "cell_type": "code",
   "execution_count": 8,
   "metadata": {},
   "outputs": [
    {
     "data": {
      "text/plain": [
       "array([0, 0, 0, 0, 0, 0, 0, 0, 0, 0, 0, 0, 0, 0, 0, 0, 0, 0, 0, 0, 0, 0,\n",
       "       0, 0, 0, 0, 0, 0, 0, 0, 0, 0, 0, 0, 0, 0, 0, 0, 0, 0, 0, 0, 0, 0,\n",
       "       0, 0, 0, 0, 0, 0, 0, 0, 0, 0, 0, 0, 0, 0, 0, 0, 0, 0, 0, 0, 0, 0,\n",
       "       0, 0, 0, 0, 0, 0, 0, 0, 0, 0, 0, 0, 0, 0, 0, 0, 0, 0, 0, 0, 0, 0,\n",
       "       0, 0, 0, 0, 0, 0, 0, 0, 0, 0, 0, 0, 0, 1, 0, 0, 0, 1, 0, 1, 0, 0,\n",
       "       1, 0, 1, 0, 0, 1, 0, 1, 1, 0, 1, 1, 1, 1, 1, 1, 0, 1, 1, 1, 1, 1,\n",
       "       1, 1, 0, 0, 1, 0, 1, 1, 0, 1, 0, 1, 0, 0, 1, 0, 0, 1, 1, 1, 1, 1,\n",
       "       1, 0, 0, 1, 0, 1, 1, 1, 1, 1, 1, 0, 1, 1, 0, 1, 1, 1, 0, 1, 1, 1,\n",
       "       1, 1, 0, 1, 1, 1, 0, 1, 1, 1, 1, 1, 1, 0, 0, 0, 1, 1, 1, 0, 1, 1,\n",
       "       1, 1, 1])"
      ]
     },
     "execution_count": 8,
     "metadata": {},
     "output_type": "execute_result"
    }
   ],
   "source": [
    "clf.predict(x)"
   ]
  },
  {
   "cell_type": "code",
   "execution_count": null,
   "metadata": {},
   "outputs": [],
   "source": []
  }
 ],
 "metadata": {
  "kernelspec": {
   "display_name": "Python 3",
   "language": "python",
   "name": "python3"
  },
  "language_info": {
   "codemirror_mode": {
    "name": "ipython",
    "version": 3
   },
   "file_extension": ".py",
   "mimetype": "text/x-python",
   "name": "python",
   "nbconvert_exporter": "python",
   "pygments_lexer": "ipython3",
   "version": "3.6.5"
  }
 },
 "nbformat": 4,
 "nbformat_minor": 2
}
