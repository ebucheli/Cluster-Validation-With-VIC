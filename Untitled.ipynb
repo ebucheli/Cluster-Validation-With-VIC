{
 "cells": [
  {
   "cell_type": "code",
   "execution_count": 1,
   "metadata": {},
   "outputs": [
    {
     "name": "stderr",
     "output_type": "stream",
     "text": [
      "/Users/edoardobucheli/anaconda3/lib/python3.6/site-packages/h5py/__init__.py:36: FutureWarning: Conversion of the second argument of issubdtype from `float` to `np.floating` is deprecated. In future, it will be treated as `np.float64 == np.dtype(float).type`.\n",
      "  from ._conv import register_converters as _register_converters\n"
     ]
    }
   ],
   "source": [
    "import tensorflow as tf\n",
    "import numpy as np\n",
    "import pandas as pd\n",
    "\n",
    "import os"
   ]
  },
  {
   "cell_type": "code",
   "execution_count": 2,
   "metadata": {},
   "outputs": [],
   "source": [
    "df = pd.read_csv('./QS_Partitions_CSV/QS_Split080.csv')\n",
    "df = df.drop([df.columns[0],df.columns[1]],axis = 1)"
   ]
  },
  {
   "cell_type": "code",
   "execution_count": 3,
   "metadata": {},
   "outputs": [],
   "source": [
    "values = df.values\n",
    "y_train = values[:,-1]\n",
    "x_train = values[::-1]"
   ]
  },
  {
   "cell_type": "code",
   "execution_count": 4,
   "metadata": {},
   "outputs": [
    {
     "name": "stdout",
     "output_type": "stream",
     "text": [
      "(201, 758)\n",
      "(201,)\n"
     ]
    }
   ],
   "source": [
    "print(x_train.shape)\n",
    "print(y_train.shape)"
   ]
  },
  {
   "cell_type": "code",
   "execution_count": 5,
   "metadata": {},
   "outputs": [],
   "source": [
    "hidden_units = 128\n",
    "hidden_layers = 2\n",
    "num_classes = 2"
   ]
  },
  {
   "cell_type": "code",
   "execution_count": 6,
   "metadata": {},
   "outputs": [],
   "source": [
    "X = tf.placeholder(tf.float32,shape = [None,758])\n",
    "y = tf.placeholder(tf.float32,shape = [None,])\n",
    "\n",
    "y = tf.cast(y, tf.int32)\n",
    "y_oh = tf.one_hot(y, num_classes)\n",
    "\n",
    "#for i in range(hidden_layers):\n",
    "    \n",
    "A = tf.keras.layers.Dense(hidden_units,activation = 'relu')(X)\n",
    "    \n",
    "if hidden_layers > 1:\n",
    "    for i in range(hidden_layers-1):\n",
    "        A = tf.keras.layers.Dense(hidden_units,activation='relu')(A)\n",
    "    \n",
    "logits = tf.keras.layers.Dense(num_classes)(A)\n",
    "y_scores = tf.keras.layers.Activation('softmax')(logits)\n",
    "y_hat = tf.argmax(y_scores,axis = 1)\n",
    "\n",
    "loss = tf.reduce_mean(tf.nn.softmax_cross_entropy_with_logits_v2(labels = y_oh, logits = logits))\n",
    "acc = tf.reduce_mean(tf.cast(tf.equal(y_hat,tf.argmax(y_oh,axis = 1)),dtype = tf.float32))\n",
    "optimizer = tf.train.AdamOptimizer()\n",
    "train_st = optimizer.minimize(loss)"
   ]
  },
  {
   "cell_type": "code",
   "execution_count": 7,
   "metadata": {},
   "outputs": [
    {
     "name": "stdout",
     "output_type": "stream",
     "text": [
      "0.96517414\n"
     ]
    }
   ],
   "source": [
    "with tf.Session() as sess:\n",
    "    sess.run(tf.global_variables_initializer())\n",
    "    \n",
    "    for i in range(500):\n",
    "        sess.run(train_st,feed_dict = {X:x_train,y:y_train})\n",
    "        \n",
    "    this_acc = sess.run(acc,feed_dict = {X:x_train,y:y_train})\n",
    "print(this_acc)"
   ]
  },
  {
   "cell_type": "code",
   "execution_count": null,
   "metadata": {},
   "outputs": [],
   "source": []
  }
 ],
 "metadata": {
  "kernelspec": {
   "display_name": "Python 3",
   "language": "python",
   "name": "python3"
  },
  "language_info": {
   "codemirror_mode": {
    "name": "ipython",
    "version": 3
   },
   "file_extension": ".py",
   "mimetype": "text/x-python",
   "name": "python",
   "nbconvert_exporter": "python",
   "pygments_lexer": "ipython3",
   "version": "3.6.5"
  }
 },
 "nbformat": 4,
 "nbformat_minor": 2
}
